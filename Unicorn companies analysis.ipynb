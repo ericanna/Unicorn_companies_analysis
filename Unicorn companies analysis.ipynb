{
 "cells": [
  {
   "cell_type": "code",
   "execution_count": 1,
   "id": "39606150",
   "metadata": {},
   "outputs": [],
   "source": [
    "import pandas as pd"
   ]
  },
  {
   "cell_type": "code",
   "execution_count": 2,
   "id": "1510c4c7",
   "metadata": {},
   "outputs": [
    {
     "data": {
      "text/html": [
       "<div>\n",
       "<style scoped>\n",
       "    .dataframe tbody tr th:only-of-type {\n",
       "        vertical-align: middle;\n",
       "    }\n",
       "\n",
       "    .dataframe tbody tr th {\n",
       "        vertical-align: top;\n",
       "    }\n",
       "\n",
       "    .dataframe thead th {\n",
       "        text-align: right;\n",
       "    }\n",
       "</style>\n",
       "<table border=\"1\" class=\"dataframe\">\n",
       "  <thead>\n",
       "    <tr style=\"text-align: right;\">\n",
       "      <th></th>\n",
       "      <th>Unnamed: 0</th>\n",
       "      <th>Company</th>\n",
       "      <th>Valuation(US$ billions)</th>\n",
       "      <th>Valuation date</th>\n",
       "      <th>Industry</th>\n",
       "      <th>Country/countries</th>\n",
       "      <th>Founder(s)</th>\n",
       "    </tr>\n",
       "  </thead>\n",
       "  <tbody>\n",
       "    <tr>\n",
       "      <th>0</th>\n",
       "      <td>0</td>\n",
       "      <td>ByteDance</td>\n",
       "      <td>140</td>\n",
       "      <td>June 2022[13]</td>\n",
       "      <td>Internet</td>\n",
       "      <td>China</td>\n",
       "      <td>Zhang Yiming, Liang Rubo</td>\n",
       "    </tr>\n",
       "    <tr>\n",
       "      <th>1</th>\n",
       "      <td>1</td>\n",
       "      <td>SpaceX</td>\n",
       "      <td>127</td>\n",
       "      <td>June 2022[13]</td>\n",
       "      <td>Aerospace</td>\n",
       "      <td>US</td>\n",
       "      <td>Elon Musk</td>\n",
       "    </tr>\n",
       "    <tr>\n",
       "      <th>2</th>\n",
       "      <td>2</td>\n",
       "      <td>Shein</td>\n",
       "      <td>100</td>\n",
       "      <td>June 2022[13]</td>\n",
       "      <td>E-commerce</td>\n",
       "      <td>China</td>\n",
       "      <td>Chris Xu</td>\n",
       "    </tr>\n",
       "    <tr>\n",
       "      <th>3</th>\n",
       "      <td>3</td>\n",
       "      <td>Stripe</td>\n",
       "      <td>50</td>\n",
       "      <td>March 2023[13]</td>\n",
       "      <td>Financial services</td>\n",
       "      <td>US / Ireland</td>\n",
       "      <td>Patrick and John Collison</td>\n",
       "    </tr>\n",
       "    <tr>\n",
       "      <th>4</th>\n",
       "      <td>4</td>\n",
       "      <td>Canva</td>\n",
       "      <td>40</td>\n",
       "      <td>September 2021[16]</td>\n",
       "      <td>Graphic design</td>\n",
       "      <td>Australia</td>\n",
       "      <td>Melanie Perkins, Clifford Obrecht, Cameron Adams</td>\n",
       "    </tr>\n",
       "  </tbody>\n",
       "</table>\n",
       "</div>"
      ],
      "text/plain": [
       "   Unnamed: 0    Company Valuation(US$ billions)      Valuation date  \\\n",
       "0           0  ByteDance                     140       June 2022[13]   \n",
       "1           1     SpaceX                     127       June 2022[13]   \n",
       "2           2      Shein                     100       June 2022[13]   \n",
       "3           3     Stripe                      50      March 2023[13]   \n",
       "4           4      Canva                      40  September 2021[16]   \n",
       "\n",
       "             Industry Country/countries  \\\n",
       "0            Internet             China   \n",
       "1           Aerospace                US   \n",
       "2          E-commerce             China   \n",
       "3  Financial services      US / Ireland   \n",
       "4      Graphic design         Australia   \n",
       "\n",
       "                                         Founder(s)  \n",
       "0                          Zhang Yiming, Liang Rubo  \n",
       "1                                         Elon Musk  \n",
       "2                                          Chris Xu  \n",
       "3                         Patrick and John Collison  \n",
       "4  Melanie Perkins, Clifford Obrecht, Cameron Adams  "
      ]
     },
     "execution_count": 2,
     "metadata": {},
     "output_type": "execute_result"
    }
   ],
   "source": [
    "file = pd.read_csv('List of Unicorn Startup Companies.csv')\n",
    "file.head()"
   ]
  },
  {
   "cell_type": "code",
   "execution_count": 3,
   "id": "f1e1da32",
   "metadata": {},
   "outputs": [],
   "source": [
    "file = file.drop(columns = ['Unnamed: 0'])"
   ]
  },
  {
   "cell_type": "code",
   "execution_count": 4,
   "id": "cb20c55d",
   "metadata": {},
   "outputs": [
    {
     "data": {
      "text/html": [
       "<div>\n",
       "<style scoped>\n",
       "    .dataframe tbody tr th:only-of-type {\n",
       "        vertical-align: middle;\n",
       "    }\n",
       "\n",
       "    .dataframe tbody tr th {\n",
       "        vertical-align: top;\n",
       "    }\n",
       "\n",
       "    .dataframe thead th {\n",
       "        text-align: right;\n",
       "    }\n",
       "</style>\n",
       "<table border=\"1\" class=\"dataframe\">\n",
       "  <thead>\n",
       "    <tr style=\"text-align: right;\">\n",
       "      <th></th>\n",
       "      <th>Company</th>\n",
       "      <th>Valuation(US$ billions)</th>\n",
       "      <th>Valuation date</th>\n",
       "      <th>Industry</th>\n",
       "      <th>Country/countries</th>\n",
       "      <th>Founder(s)</th>\n",
       "    </tr>\n",
       "  </thead>\n",
       "  <tbody>\n",
       "    <tr>\n",
       "      <th>0</th>\n",
       "      <td>ByteDance</td>\n",
       "      <td>140</td>\n",
       "      <td>June 2022[13]</td>\n",
       "      <td>Internet</td>\n",
       "      <td>China</td>\n",
       "      <td>Zhang Yiming, Liang Rubo</td>\n",
       "    </tr>\n",
       "    <tr>\n",
       "      <th>1</th>\n",
       "      <td>SpaceX</td>\n",
       "      <td>127</td>\n",
       "      <td>June 2022[13]</td>\n",
       "      <td>Aerospace</td>\n",
       "      <td>US</td>\n",
       "      <td>Elon Musk</td>\n",
       "    </tr>\n",
       "    <tr>\n",
       "      <th>2</th>\n",
       "      <td>Shein</td>\n",
       "      <td>100</td>\n",
       "      <td>June 2022[13]</td>\n",
       "      <td>E-commerce</td>\n",
       "      <td>China</td>\n",
       "      <td>Chris Xu</td>\n",
       "    </tr>\n",
       "    <tr>\n",
       "      <th>3</th>\n",
       "      <td>Stripe</td>\n",
       "      <td>50</td>\n",
       "      <td>March 2023[13]</td>\n",
       "      <td>Financial services</td>\n",
       "      <td>US / Ireland</td>\n",
       "      <td>Patrick and John Collison</td>\n",
       "    </tr>\n",
       "    <tr>\n",
       "      <th>4</th>\n",
       "      <td>Canva</td>\n",
       "      <td>40</td>\n",
       "      <td>September 2021[16]</td>\n",
       "      <td>Graphic design</td>\n",
       "      <td>Australia</td>\n",
       "      <td>Melanie Perkins, Clifford Obrecht, Cameron Adams</td>\n",
       "    </tr>\n",
       "  </tbody>\n",
       "</table>\n",
       "</div>"
      ],
      "text/plain": [
       "     Company Valuation(US$ billions)      Valuation date            Industry  \\\n",
       "0  ByteDance                     140       June 2022[13]            Internet   \n",
       "1     SpaceX                     127       June 2022[13]           Aerospace   \n",
       "2      Shein                     100       June 2022[13]          E-commerce   \n",
       "3     Stripe                      50      March 2023[13]  Financial services   \n",
       "4      Canva                      40  September 2021[16]      Graphic design   \n",
       "\n",
       "  Country/countries                                        Founder(s)  \n",
       "0             China                          Zhang Yiming, Liang Rubo  \n",
       "1                US                                         Elon Musk  \n",
       "2             China                                          Chris Xu  \n",
       "3      US / Ireland                         Patrick and John Collison  \n",
       "4         Australia  Melanie Perkins, Clifford Obrecht, Cameron Adams  "
      ]
     },
     "execution_count": 4,
     "metadata": {},
     "output_type": "execute_result"
    }
   ],
   "source": [
    "file.head()"
   ]
  },
  {
   "cell_type": "code",
   "execution_count": 5,
   "id": "e76429d6",
   "metadata": {},
   "outputs": [
    {
     "name": "stdout",
     "output_type": "stream",
     "text": [
      "<class 'pandas.core.frame.DataFrame'>\n",
      "RangeIndex: 658 entries, 0 to 657\n",
      "Data columns (total 6 columns):\n",
      " #   Column                   Non-Null Count  Dtype \n",
      "---  ------                   --------------  ----- \n",
      " 0   Company                  658 non-null    object\n",
      " 1   Valuation(US$ billions)  658 non-null    object\n",
      " 2   Valuation date           658 non-null    object\n",
      " 3   Industry                 594 non-null    object\n",
      " 4   Country/countries        658 non-null    object\n",
      " 5   Founder(s)               138 non-null    object\n",
      "dtypes: object(6)\n",
      "memory usage: 31.0+ KB\n"
     ]
    }
   ],
   "source": [
    "file.info()"
   ]
  },
  {
   "cell_type": "code",
   "execution_count": 6,
   "id": "5d019fab",
   "metadata": {},
   "outputs": [],
   "source": [
    "file = file.drop(columns = ['Founder(s)'])"
   ]
  },
  {
   "cell_type": "code",
   "execution_count": 7,
   "id": "deea5a20",
   "metadata": {},
   "outputs": [],
   "source": [
    "file = file.rename(columns = {'Company': 'company', 'Valuation(US$ billions)': 'valuation', 'Valuation date': 'valuation_date', 'Industry': 'industry', 'Country/countries': 'country'})"
   ]
  },
  {
   "cell_type": "code",
   "execution_count": 8,
   "id": "3a102742",
   "metadata": {},
   "outputs": [
    {
     "data": {
      "text/plain": [
       "array(['140', '127', '100', '50', '40', '24', '38', '33', '31.5', '30',\n",
       "       '27', '25', '22', '20', '17.5', '2.1', 'Undisclosed', '16.5',\n",
       "       '15.5', '15', '13.4', '13.3', '13', '12.6', '12.4', '12.3', '12',\n",
       "       '11.75', '11', '10.2', '10.7', '10', '9.6', '9.5', '9.3', '9',\n",
       "       '8.7', '8.6', '8.5', '8.4', '8.3', '8.1', '8', '7.75', '7.6',\n",
       "       '7.5', '7.4', '7.3', '7.25', '6.8', '6.7', '6.6', '6.5', '11.25',\n",
       "       '6.4', '6.3', '6.2', '6.04', '6', '5.8', '5.7', '5.6', '5.5',\n",
       "       '5.48', '5.3', '5.25', '5.2', '5.1', '5+', '5', '4.6', '4.9',\n",
       "       '4.7', '4.5', '4.4', '4.3', '4.2', '4.15', '4.1', '4.05', '4',\n",
       "       '3.95', '3.8', '3.75', '3.7', '3.6', '3.55', '3.5', '3.35', '3.33',\n",
       "       '3.3', '3.4', '3.2', '3.15', '3.1', '3+', '3', '2.9', '2.85',\n",
       "       '2.8', '2.78', '2.75', '2.7', '1.4', '2.63', '2.6', '2.56', '2.5',\n",
       "       '2.5+', '2.45', '2.4', '2.39', '2.33', '2.3', '2.25', '2.2',\n",
       "       '2.17', '2.1+', '2+', '2', '1.98', '1.95', '1.93', '1.9', '1.89',\n",
       "       '1.85', '1.83', '1.8', '1.78', '1.75', '1.7', '1.68', '1.67',\n",
       "       '1.65', '1.6', '1.56', '1.5+', '1.5', '1.47', '1.45', '1.33',\n",
       "       '1.32', '1.3', '1.25', '1.23', '1.22', '1.2', '1.18', '1.1',\n",
       "       '1.05', '1.04', '1.0', '1+', '1', '1.44', '1.4+'], dtype=object)"
      ]
     },
     "execution_count": 8,
     "metadata": {},
     "output_type": "execute_result"
    }
   ],
   "source": [
    "file['valuation'].unique()"
   ]
  },
  {
   "cell_type": "code",
   "execution_count": 9,
   "id": "90ce5498",
   "metadata": {},
   "outputs": [],
   "source": [
    "file = file.drop(file[file['valuation'] == 'Undisclosed'].index)"
   ]
  },
  {
   "cell_type": "code",
   "execution_count": 10,
   "id": "41b6c32f",
   "metadata": {},
   "outputs": [],
   "source": [
    "file = file.drop_duplicates()"
   ]
  },
  {
   "cell_type": "code",
   "execution_count": 11,
   "id": "dbf219fc",
   "metadata": {},
   "outputs": [
    {
     "name": "stdout",
     "output_type": "stream",
     "text": [
      "<class 'pandas.core.frame.DataFrame'>\n",
      "Int64Index: 657 entries, 0 to 657\n",
      "Data columns (total 5 columns):\n",
      " #   Column          Non-Null Count  Dtype \n",
      "---  ------          --------------  ----- \n",
      " 0   company         657 non-null    object\n",
      " 1   valuation       657 non-null    object\n",
      " 2   valuation_date  657 non-null    object\n",
      " 3   industry        593 non-null    object\n",
      " 4   country         657 non-null    object\n",
      "dtypes: object(5)\n",
      "memory usage: 30.8+ KB\n"
     ]
    }
   ],
   "source": [
    "file.info()"
   ]
  },
  {
   "cell_type": "code",
   "execution_count": 12,
   "id": "79fca18a",
   "metadata": {},
   "outputs": [
    {
     "data": {
      "text/html": [
       "<div>\n",
       "<style scoped>\n",
       "    .dataframe tbody tr th:only-of-type {\n",
       "        vertical-align: middle;\n",
       "    }\n",
       "\n",
       "    .dataframe tbody tr th {\n",
       "        vertical-align: top;\n",
       "    }\n",
       "\n",
       "    .dataframe thead th {\n",
       "        text-align: right;\n",
       "    }\n",
       "</style>\n",
       "<table border=\"1\" class=\"dataframe\">\n",
       "  <thead>\n",
       "    <tr style=\"text-align: right;\">\n",
       "      <th></th>\n",
       "      <th>company</th>\n",
       "      <th>valuation</th>\n",
       "      <th>valuation_date</th>\n",
       "      <th>industry</th>\n",
       "      <th>country</th>\n",
       "    </tr>\n",
       "  </thead>\n",
       "  <tbody>\n",
       "    <tr>\n",
       "      <th>0</th>\n",
       "      <td>ByteDance</td>\n",
       "      <td>140</td>\n",
       "      <td>June 2022[13]</td>\n",
       "      <td>Internet</td>\n",
       "      <td>China</td>\n",
       "    </tr>\n",
       "    <tr>\n",
       "      <th>1</th>\n",
       "      <td>SpaceX</td>\n",
       "      <td>127</td>\n",
       "      <td>June 2022[13]</td>\n",
       "      <td>Aerospace</td>\n",
       "      <td>US</td>\n",
       "    </tr>\n",
       "    <tr>\n",
       "      <th>2</th>\n",
       "      <td>Shein</td>\n",
       "      <td>100</td>\n",
       "      <td>June 2022[13]</td>\n",
       "      <td>E-commerce</td>\n",
       "      <td>China</td>\n",
       "    </tr>\n",
       "    <tr>\n",
       "      <th>3</th>\n",
       "      <td>Stripe</td>\n",
       "      <td>50</td>\n",
       "      <td>March 2023[13]</td>\n",
       "      <td>Financial services</td>\n",
       "      <td>US / Ireland</td>\n",
       "    </tr>\n",
       "    <tr>\n",
       "      <th>4</th>\n",
       "      <td>Canva</td>\n",
       "      <td>40</td>\n",
       "      <td>September 2021[16]</td>\n",
       "      <td>Graphic design</td>\n",
       "      <td>Australia</td>\n",
       "    </tr>\n",
       "    <tr>\n",
       "      <th>...</th>\n",
       "      <td>...</td>\n",
       "      <td>...</td>\n",
       "      <td>...</td>\n",
       "      <td>...</td>\n",
       "      <td>...</td>\n",
       "    </tr>\n",
       "    <tr>\n",
       "      <th>652</th>\n",
       "      <td>Voi</td>\n",
       "      <td>1+</td>\n",
       "      <td>April 2022[59]</td>\n",
       "      <td>NaN</td>\n",
       "      <td>Sweden</td>\n",
       "    </tr>\n",
       "    <tr>\n",
       "      <th>653</th>\n",
       "      <td>Neo Financial</td>\n",
       "      <td>1</td>\n",
       "      <td>May 2022[567]</td>\n",
       "      <td>Financial technology</td>\n",
       "      <td>Canada</td>\n",
       "    </tr>\n",
       "    <tr>\n",
       "      <th>654</th>\n",
       "      <td>Physics Wallah</td>\n",
       "      <td>1.1</td>\n",
       "      <td>June 2022[568]</td>\n",
       "      <td>Educational technology</td>\n",
       "      <td>India</td>\n",
       "    </tr>\n",
       "    <tr>\n",
       "      <th>655</th>\n",
       "      <td>OneCard</td>\n",
       "      <td>1.4+</td>\n",
       "      <td>July 2022[569]</td>\n",
       "      <td>Financial technology</td>\n",
       "      <td>India</td>\n",
       "    </tr>\n",
       "    <tr>\n",
       "      <th>656</th>\n",
       "      <td>5ire</td>\n",
       "      <td>1.5+</td>\n",
       "      <td>July 2022[570]</td>\n",
       "      <td>Technology</td>\n",
       "      <td>India</td>\n",
       "    </tr>\n",
       "  </tbody>\n",
       "</table>\n",
       "<p>657 rows × 5 columns</p>\n",
       "</div>"
      ],
      "text/plain": [
       "            company valuation      valuation_date                industry  \\\n",
       "0         ByteDance       140       June 2022[13]                Internet   \n",
       "1            SpaceX       127       June 2022[13]               Aerospace   \n",
       "2             Shein       100       June 2022[13]              E-commerce   \n",
       "3            Stripe        50      March 2023[13]      Financial services   \n",
       "4             Canva        40  September 2021[16]          Graphic design   \n",
       "..              ...       ...                 ...                     ...   \n",
       "652             Voi        1+      April 2022[59]                     NaN   \n",
       "653   Neo Financial         1       May 2022[567]    Financial technology   \n",
       "654  Physics Wallah       1.1      June 2022[568]  Educational technology   \n",
       "655         OneCard      1.4+      July 2022[569]    Financial technology   \n",
       "656            5ire      1.5+      July 2022[570]              Technology   \n",
       "\n",
       "          country  \n",
       "0           China  \n",
       "1              US  \n",
       "2           China  \n",
       "3    US / Ireland  \n",
       "4       Australia  \n",
       "..            ...  \n",
       "652        Sweden  \n",
       "653        Canada  \n",
       "654         India  \n",
       "655         India  \n",
       "656         India  \n",
       "\n",
       "[657 rows x 5 columns]"
      ]
     },
     "execution_count": 12,
     "metadata": {},
     "output_type": "execute_result"
    }
   ],
   "source": [
    "file.reset_index(drop = True)"
   ]
  },
  {
   "cell_type": "code",
   "execution_count": 13,
   "id": "de0f8c3f",
   "metadata": {},
   "outputs": [
    {
     "name": "stderr",
     "output_type": "stream",
     "text": [
      "/var/folders/0l/jk10l8211rd4cr70rll9kzh80000gp/T/ipykernel_3566/28791501.py:1: FutureWarning: The default value of regex will change from True to False in a future version. In addition, single character regular expressions will *not* be treated as literal strings when regex=True.\n",
      "  file['valuation'] = file['valuation'].str.replace('+', '')\n"
     ]
    }
   ],
   "source": [
    "file['valuation'] = file['valuation'].str.replace('+', '')"
   ]
  },
  {
   "cell_type": "code",
   "execution_count": 14,
   "id": "8e14c9ad",
   "metadata": {},
   "outputs": [],
   "source": [
    "file['valuation'] = file['valuation'].astype(float)"
   ]
  },
  {
   "cell_type": "code",
   "execution_count": 15,
   "id": "280235d9",
   "metadata": {},
   "outputs": [],
   "source": [
    "file['valuation'] = file['valuation'].round(1)"
   ]
  },
  {
   "cell_type": "code",
   "execution_count": 16,
   "id": "bc28786d",
   "metadata": {},
   "outputs": [
    {
     "data": {
      "text/plain": [
       "array([140. , 127. , 100. ,  50. ,  40. ,  24. ,  38. ,  33. ,  31.5,\n",
       "        30. ,  27. ,  25. ,  22. ,  20. ,  17.5,   2.1,  16.5,  15.5,\n",
       "        15. ,  13.4,  13.3,  13. ,  12.6,  12.4,  12.3,  12. ,  11.8,\n",
       "        11. ,  10.2,  10.7,  10. ,   9.6,   9.5,   9.3,   9. ,   8.7,\n",
       "         8.6,   8.5,   8.4,   8.3,   8.1,   8. ,   7.8,   7.6,   7.5,\n",
       "         7.4,   7.3,   7.2,   6.8,   6.7,   6.6,   6.5,  11.2,   6.4,\n",
       "         6.3,   6.2,   6. ,   5.8,   5.7,   5.6,   5.5,   5.3,   5.2,\n",
       "         5.1,   5. ,   4.6,   4.9,   4.7,   4.5,   4.4,   4.3,   4.2,\n",
       "         4.1,   4. ,   3.8,   3.7,   3.6,   3.5,   3.4,   3.3,   3.2,\n",
       "         3.1,   3. ,   2.9,   2.8,   2.7,   1.4,   2.6,   2.5,   2.4,\n",
       "         2.3,   2.2,   2. ,   1.9,   1.8,   1.7,   1.6,   1.5,   1.3,\n",
       "         1.2,   1.1,   1. ])"
      ]
     },
     "execution_count": 16,
     "metadata": {},
     "output_type": "execute_result"
    }
   ],
   "source": [
    "file['valuation'].unique()"
   ]
  },
  {
   "cell_type": "code",
   "execution_count": 17,
   "id": "4a3fe708",
   "metadata": {},
   "outputs": [],
   "source": [
    "file = file.rename(columns = {'valuation': 'valuation_billions'})"
   ]
  },
  {
   "cell_type": "code",
   "execution_count": 18,
   "id": "ba902592",
   "metadata": {},
   "outputs": [
    {
     "data": {
      "text/html": [
       "<div>\n",
       "<style scoped>\n",
       "    .dataframe tbody tr th:only-of-type {\n",
       "        vertical-align: middle;\n",
       "    }\n",
       "\n",
       "    .dataframe tbody tr th {\n",
       "        vertical-align: top;\n",
       "    }\n",
       "\n",
       "    .dataframe thead th {\n",
       "        text-align: right;\n",
       "    }\n",
       "</style>\n",
       "<table border=\"1\" class=\"dataframe\">\n",
       "  <thead>\n",
       "    <tr style=\"text-align: right;\">\n",
       "      <th></th>\n",
       "      <th>company</th>\n",
       "      <th>valuation_billions</th>\n",
       "      <th>valuation_date</th>\n",
       "      <th>industry</th>\n",
       "      <th>country</th>\n",
       "    </tr>\n",
       "  </thead>\n",
       "  <tbody>\n",
       "    <tr>\n",
       "      <th>0</th>\n",
       "      <td>ByteDance</td>\n",
       "      <td>140.0</td>\n",
       "      <td>June 2022[13]</td>\n",
       "      <td>Internet</td>\n",
       "      <td>China</td>\n",
       "    </tr>\n",
       "    <tr>\n",
       "      <th>1</th>\n",
       "      <td>SpaceX</td>\n",
       "      <td>127.0</td>\n",
       "      <td>June 2022[13]</td>\n",
       "      <td>Aerospace</td>\n",
       "      <td>US</td>\n",
       "    </tr>\n",
       "    <tr>\n",
       "      <th>2</th>\n",
       "      <td>Shein</td>\n",
       "      <td>100.0</td>\n",
       "      <td>June 2022[13]</td>\n",
       "      <td>E-commerce</td>\n",
       "      <td>China</td>\n",
       "    </tr>\n",
       "    <tr>\n",
       "      <th>3</th>\n",
       "      <td>Stripe</td>\n",
       "      <td>50.0</td>\n",
       "      <td>March 2023[13]</td>\n",
       "      <td>Financial services</td>\n",
       "      <td>US / Ireland</td>\n",
       "    </tr>\n",
       "    <tr>\n",
       "      <th>4</th>\n",
       "      <td>Canva</td>\n",
       "      <td>40.0</td>\n",
       "      <td>September 2021[16]</td>\n",
       "      <td>Graphic design</td>\n",
       "      <td>Australia</td>\n",
       "    </tr>\n",
       "  </tbody>\n",
       "</table>\n",
       "</div>"
      ],
      "text/plain": [
       "     company  valuation_billions      valuation_date            industry  \\\n",
       "0  ByteDance               140.0       June 2022[13]            Internet   \n",
       "1     SpaceX               127.0       June 2022[13]           Aerospace   \n",
       "2      Shein               100.0       June 2022[13]          E-commerce   \n",
       "3     Stripe                50.0      March 2023[13]  Financial services   \n",
       "4      Canva                40.0  September 2021[16]      Graphic design   \n",
       "\n",
       "        country  \n",
       "0         China  \n",
       "1            US  \n",
       "2         China  \n",
       "3  US / Ireland  \n",
       "4     Australia  "
      ]
     },
     "execution_count": 18,
     "metadata": {},
     "output_type": "execute_result"
    }
   ],
   "source": [
    "file.head()"
   ]
  },
  {
   "cell_type": "code",
   "execution_count": 19,
   "id": "d26bd455",
   "metadata": {},
   "outputs": [],
   "source": [
    "file['industry'] = file[['industry']].fillna(value='Unknown')"
   ]
  },
  {
   "cell_type": "code",
   "execution_count": 20,
   "id": "575f601a",
   "metadata": {},
   "outputs": [
    {
     "name": "stdout",
     "output_type": "stream",
     "text": [
      "<class 'pandas.core.frame.DataFrame'>\n",
      "Int64Index: 657 entries, 0 to 657\n",
      "Data columns (total 5 columns):\n",
      " #   Column              Non-Null Count  Dtype  \n",
      "---  ------              --------------  -----  \n",
      " 0   company             657 non-null    object \n",
      " 1   valuation_billions  657 non-null    float64\n",
      " 2   valuation_date      657 non-null    object \n",
      " 3   industry            657 non-null    object \n",
      " 4   country             657 non-null    object \n",
      "dtypes: float64(1), object(4)\n",
      "memory usage: 30.8+ KB\n"
     ]
    }
   ],
   "source": [
    "file.info()"
   ]
  },
  {
   "cell_type": "code",
   "execution_count": 21,
   "id": "7091f530",
   "metadata": {},
   "outputs": [
    {
     "name": "stdout",
     "output_type": "stream",
     "text": [
      "4.03972602739725\n"
     ]
    }
   ],
   "source": [
    "print(file['valuation_billions'].mean())"
   ]
  },
  {
   "cell_type": "code",
   "execution_count": 22,
   "id": "ceb448cf",
   "metadata": {},
   "outputs": [
    {
     "data": {
      "text/plain": [
       "array(['Internet', 'Aerospace', 'E-commerce', 'Financial services',\n",
       "       'Graphic design', 'Financial technology', 'Retail', 'Software',\n",
       "       'Video games', 'Educational technology', 'Logistics', 'Technology',\n",
       "       'Blockchain', 'Collaborative software', 'Healthcare', 'Finance',\n",
       "       'Health', 'Cryptocurrency', 'Artificial intelligence', 'Batteries',\n",
       "       'Self-driving cars', 'Food delivery', 'Marketplace',\n",
       "       'Venture capital', 'Supply chain management',\n",
       "       'Productivity software', 'Internet media', 'Software as a service',\n",
       "       'Hospitality', 'Marketing', 'Software development',\n",
       "       'Cybersecurity', 'Robotics', 'Application security',\n",
       "       'Transportation', 'Cloud security', 'Fantasy sports',\n",
       "       'Virtual event', 'NFT', 'Computer security', 'Travel',\n",
       "       'Robotic process automation', 'Password manager',\n",
       "       'Real estate technology', 'Workforce management', 'Real estate',\n",
       "       'Mass media', 'Data infrastructure', 'Health technology',\n",
       "       'Data governance', 'Holding company', 'Ghost kitchen',\n",
       "       'Electronic cigarettes', 'B2B e-commerce', 'Electric vehicles',\n",
       "       'Flexible electronics', 'Blockchain gaming', 'Energy supply',\n",
       "       'Defense technology', 'Human resource management',\n",
       "       'Augmented reality', 'Identity management', 'Consumer electronics',\n",
       "       'Sales', 'Data analytics', 'Software industry', 'Messaging',\n",
       "       'Interior design', 'Insurance', 'Online membership service',\n",
       "       'Social network', 'Data storage', 'Wearable technology',\n",
       "       'Computer storage', 'Mobile gaming', 'Self-driving trucks',\n",
       "       'Quantum computing', 'Education', 'Content management system',\n",
       "       'Semiconductors', 'Cloud communications',\n",
       "       'Superintelligence・Quantum computing・Metaverse',\n",
       "       'Home improvement', 'Trucking', 'Ordering software for POS', 'CRM',\n",
       "       'Developer platform',\n",
       "       'Network operating system, Software-defined networking, Software as a service',\n",
       "       'Personal finance', 'Asset performance management',\n",
       "       'Food packaging, Logistics', 'Fitness', 'Web development',\n",
       "       'Mobile financial services', 'Pharmaceuticals',\n",
       "       'Mobile marketing analytics',\n",
       "       'E-commerce, movie ticket distributor', 'Digital health',\n",
       "       'Database management', 'Cloud computing', '3D printing',\n",
       "       'Agriculture, E-commerce', 'Nanopore sequencing',\n",
       "       'Fashion, Retail', 'Consumer finance', 'Pharmaceutical',\n",
       "       'Analytics', 'Energy', 'Property technology', 'Fashion',\n",
       "       'Mobile internet', 'Drug discovery', 'Printing', 'Biotechnology',\n",
       "       'Cosmetics', 'Cannabis', 'Unknown', 'Gaming', 'HR technology',\n",
       "       'Legal technology', 'VPN service', 'Identity verification service',\n",
       "       'Advertising technology', 'Management consulting',\n",
       "       'Food technology', 'Music', 'Health care',\n",
       "       'Building services engineering', 'Personal care', 'Automotive',\n",
       "       'Cloud software', 'E-Commerce', 'Business intelligence',\n",
       "       'Sportswear', 'Coffee shop', 'Cloud', 'Media',\n",
       "       'Accounting software', 'Meal kit', 'Electronics', 'Furniture',\n",
       "       'Nanotechnology', 'WebOps', 'Intellectual property',\n",
       "       'Network security', 'Architecture', 'Waste management',\n",
       "       'Fraud prevention', 'Car sharing', 'Financial software',\n",
       "       'Digital media', 'Telecommunications', 'Software company',\n",
       "       'E-commerce, Food delivery',\n",
       "       'Environmental,_social,_and_corporate_governance'], dtype=object)"
      ]
     },
     "execution_count": 22,
     "metadata": {},
     "output_type": "execute_result"
    }
   ],
   "source": [
    "file['industry'].unique()"
   ]
  },
  {
   "cell_type": "code",
   "execution_count": 23,
   "id": "4e68503b",
   "metadata": {},
   "outputs": [],
   "source": [
    "file['sector'] = file['industry']"
   ]
  },
  {
   "cell_type": "code",
   "execution_count": 24,
   "id": "4deba4bc",
   "metadata": {},
   "outputs": [],
   "source": [
    "def sectors(i):\n",
    "    if i == 'Video games' or i == 'Fantasy sports' or i== 'Blockchain gaming' or i=='Mobile gaming' or i=='E-commerce, movie ticket distributor' or i =='Gaming' or i=='Music' or i=='Printing':\n",
    "        return 'Culture and leisure'\n",
    "    elif i == 'E-commerce, Food delivery' or i=='Meal kit' or i=='Coffee shop' or i=='Food technology' or i=='Ghost kitchen' or i=='Food delivery':\n",
    "        return 'Foods and Drinks'\n",
    "    elif i == 'Healthcare' or i=='Health' or i=='Health technology' or i=='Fitness' or i=='Pharmaceuticals' or i=='Digital health' or i=='Pharmaceutical' or i=='Drug discovery' or i=='Cosmetics' or i=='Biotechnology' or i=='Health care' or i=='Personal care':\n",
    "        return 'Health and Personal Care'\n",
    "    elif i=='Self-driving cars' or i=='Transportation' or i=='Self-driving trucks' or i=='Trucking' or i=='Automotive' or i=='Car sharing' or i=='Electric vehicles':\n",
    "        return 'Transportation'\n",
    "    elif i=='E-commerce' or i=='Marketplace' or i=='Retail' or i=='Electronic cigarettes' or i=='B2B e-commerce' or i=='Sales' or i=='Fashion, Retail' or i=='Fashion' or i=='E-Commerce' or i=='Sportswear' or i=='Furniture':\n",
    "        return 'Sales and Fashion'\n",
    "    elif i=='Cybersecurity' or i=='Application security' or i=='Cloud security' or i=='Computer security' or i=='Password manager' or i=='VPN service' or i=='Identity verification service' or i=='Network security' or i=='Fraud prevention' or i=='Identity management':\n",
    "        return 'Security'\n",
    "    elif i=='Financial services' or i=='Financial technology' or i=='Finance' or i=='Cryptocurrency' or i=='Venture capital' or i== 'Personal finance' or i=='Mobile financial services' or i=='Consumer finance' or i=='Accounting software' or i=='Financial software' or i=='Ordering software for POS':\n",
    "        return 'Finances'\n",
    "    elif i=='Internet' or i=='Software' or i=='Technology' or i=='Blockchain' or i=='Collaborative software' or i=='Artificial intelligence' or i=='Software as a service' or i=='Software development' or i=='Robotics' or i=='Robotic process automation' or i=='Defense technology' or i=='Augmented reality' or i=='Software industry' or i=='Messaging' or i=='Social network' or i=='Quantum computing' or i=='Content management system' or i=='Superintelligence・Quantum computing・Metaverse' or i=='Developer platform' or i=='Network operating system, Software-defined networking, Software as a service' or i=='Web development' or i=='Cloud computing' or i=='Cloud software' or i=='Nanotechnology' or i=='WebOps' or i=='Software company' or i=='Productivity software' or i== 'Data infrastructure' or i=='Data governance' or i=='Data analytics' or i=='Data storage' or i=='Computer storage' or i=='Cloud communications' or i=='Database management' or i=='Mobile marketing analytics' or i=='Analytics' or i=='Cloud' or i=='Digital media' or i=='Wearable technology':\n",
    "        return 'Technology, Data and Analytics'\n",
    "    elif i=='Educational technology' or i== 'Education':\n",
    "        return 'Education'\n",
    "    elif i == 'Unknown':\n",
    "        return 'Unknown'\n",
    "    else:\n",
    "        return 'Other'\n",
    "    "
   ]
  },
  {
   "cell_type": "code",
   "execution_count": 25,
   "id": "867afe92",
   "metadata": {
    "scrolled": true
   },
   "outputs": [],
   "source": [
    "file['sector'] = list(map(sectors, file['sector']))"
   ]
  },
  {
   "cell_type": "code",
   "execution_count": 26,
   "id": "c3b387e7",
   "metadata": {},
   "outputs": [
    {
     "data": {
      "text/plain": [
       "array(['Technology, Data and Analytics', 'Other', 'Sales and Fashion',\n",
       "       'Finances', 'Culture and leisure', 'Education',\n",
       "       'Health and Personal Care', 'Transportation', 'Foods and Drinks',\n",
       "       'Security', 'Unknown'], dtype=object)"
      ]
     },
     "execution_count": 26,
     "metadata": {},
     "output_type": "execute_result"
    }
   ],
   "source": [
    "file['sector'].unique()"
   ]
  },
  {
   "cell_type": "code",
   "execution_count": 30,
   "id": "a44ee3a9",
   "metadata": {},
   "outputs": [
    {
     "data": {
      "text/html": [
       "<div>\n",
       "<style scoped>\n",
       "    .dataframe tbody tr th:only-of-type {\n",
       "        vertical-align: middle;\n",
       "    }\n",
       "\n",
       "    .dataframe tbody tr th {\n",
       "        vertical-align: top;\n",
       "    }\n",
       "\n",
       "    .dataframe thead th {\n",
       "        text-align: right;\n",
       "    }\n",
       "</style>\n",
       "<table border=\"1\" class=\"dataframe\">\n",
       "  <thead>\n",
       "    <tr style=\"text-align: right;\">\n",
       "      <th></th>\n",
       "      <th>valuation_billions</th>\n",
       "    </tr>\n",
       "    <tr>\n",
       "      <th>sector</th>\n",
       "      <th></th>\n",
       "    </tr>\n",
       "  </thead>\n",
       "  <tbody>\n",
       "    <tr>\n",
       "      <th>Culture and leisure</th>\n",
       "      <td>4.005000</td>\n",
       "    </tr>\n",
       "    <tr>\n",
       "      <th>Education</th>\n",
       "      <td>4.082353</td>\n",
       "    </tr>\n",
       "    <tr>\n",
       "      <th>Finances</th>\n",
       "      <td>4.213675</td>\n",
       "    </tr>\n",
       "    <tr>\n",
       "      <th>Foods and Drinks</th>\n",
       "      <td>2.622222</td>\n",
       "    </tr>\n",
       "    <tr>\n",
       "      <th>Health and Personal Care</th>\n",
       "      <td>3.188571</td>\n",
       "    </tr>\n",
       "    <tr>\n",
       "      <th>Other</th>\n",
       "      <td>4.753465</td>\n",
       "    </tr>\n",
       "    <tr>\n",
       "      <th>Sales and Fashion</th>\n",
       "      <td>5.644118</td>\n",
       "    </tr>\n",
       "    <tr>\n",
       "      <th>Security</th>\n",
       "      <td>2.997143</td>\n",
       "    </tr>\n",
       "    <tr>\n",
       "      <th>Technology, Data and Analytics</th>\n",
       "      <td>4.498795</td>\n",
       "    </tr>\n",
       "    <tr>\n",
       "      <th>Transportation</th>\n",
       "      <td>3.524000</td>\n",
       "    </tr>\n",
       "    <tr>\n",
       "      <th>Unknown</th>\n",
       "      <td>1.135938</td>\n",
       "    </tr>\n",
       "  </tbody>\n",
       "</table>\n",
       "</div>"
      ],
      "text/plain": [
       "                                valuation_billions\n",
       "sector                                            \n",
       "Culture and leisure                       4.005000\n",
       "Education                                 4.082353\n",
       "Finances                                  4.213675\n",
       "Foods and Drinks                          2.622222\n",
       "Health and Personal Care                  3.188571\n",
       "Other                                     4.753465\n",
       "Sales and Fashion                         5.644118\n",
       "Security                                  2.997143\n",
       "Technology, Data and Analytics            4.498795\n",
       "Transportation                            3.524000\n",
       "Unknown                                   1.135938"
      ]
     },
     "execution_count": 30,
     "metadata": {},
     "output_type": "execute_result"
    }
   ],
   "source": [
    "file.groupby('sector').agg('mean')"
   ]
  },
  {
   "cell_type": "code",
   "execution_count": 29,
   "id": "4c0963e4",
   "metadata": {},
   "outputs": [
    {
     "data": {
      "text/html": [
       "<div>\n",
       "<style scoped>\n",
       "    .dataframe tbody tr th:only-of-type {\n",
       "        vertical-align: middle;\n",
       "    }\n",
       "\n",
       "    .dataframe tbody tr th {\n",
       "        vertical-align: top;\n",
       "    }\n",
       "\n",
       "    .dataframe thead th {\n",
       "        text-align: right;\n",
       "    }\n",
       "</style>\n",
       "<table border=\"1\" class=\"dataframe\">\n",
       "  <thead>\n",
       "    <tr style=\"text-align: right;\">\n",
       "      <th></th>\n",
       "      <th>valuation_billions</th>\n",
       "    </tr>\n",
       "    <tr>\n",
       "      <th>sector</th>\n",
       "      <th></th>\n",
       "    </tr>\n",
       "  </thead>\n",
       "  <tbody>\n",
       "    <tr>\n",
       "      <th>Culture and leisure</th>\n",
       "      <td>80.1</td>\n",
       "    </tr>\n",
       "    <tr>\n",
       "      <th>Education</th>\n",
       "      <td>69.4</td>\n",
       "    </tr>\n",
       "    <tr>\n",
       "      <th>Finances</th>\n",
       "      <td>493.0</td>\n",
       "    </tr>\n",
       "    <tr>\n",
       "      <th>Foods and Drinks</th>\n",
       "      <td>23.6</td>\n",
       "    </tr>\n",
       "    <tr>\n",
       "      <th>Health and Personal Care</th>\n",
       "      <td>111.6</td>\n",
       "    </tr>\n",
       "    <tr>\n",
       "      <th>Other</th>\n",
       "      <td>480.1</td>\n",
       "    </tr>\n",
       "    <tr>\n",
       "      <th>Sales and Fashion</th>\n",
       "      <td>383.8</td>\n",
       "    </tr>\n",
       "    <tr>\n",
       "      <th>Security</th>\n",
       "      <td>104.9</td>\n",
       "    </tr>\n",
       "    <tr>\n",
       "      <th>Technology, Data and Analytics</th>\n",
       "      <td>746.8</td>\n",
       "    </tr>\n",
       "    <tr>\n",
       "      <th>Transportation</th>\n",
       "      <td>88.1</td>\n",
       "    </tr>\n",
       "    <tr>\n",
       "      <th>Unknown</th>\n",
       "      <td>72.7</td>\n",
       "    </tr>\n",
       "  </tbody>\n",
       "</table>\n",
       "</div>"
      ],
      "text/plain": [
       "                                valuation_billions\n",
       "sector                                            \n",
       "Culture and leisure                           80.1\n",
       "Education                                     69.4\n",
       "Finances                                     493.0\n",
       "Foods and Drinks                              23.6\n",
       "Health and Personal Care                     111.6\n",
       "Other                                        480.1\n",
       "Sales and Fashion                            383.8\n",
       "Security                                     104.9\n",
       "Technology, Data and Analytics               746.8\n",
       "Transportation                                88.1\n",
       "Unknown                                       72.7"
      ]
     },
     "execution_count": 29,
     "metadata": {},
     "output_type": "execute_result"
    }
   ],
   "source": [
    "file.groupby('sector').agg('sum')"
   ]
  },
  {
   "cell_type": "code",
   "execution_count": 32,
   "id": "61c4d6a8",
   "metadata": {},
   "outputs": [
    {
     "data": {
      "text/plain": [
       "'April 2016[124]'"
      ]
     },
     "execution_count": 32,
     "metadata": {},
     "output_type": "execute_result"
    }
   ],
   "source": [
    "file['valuation_date'].min()"
   ]
  },
  {
   "cell_type": "code",
   "execution_count": 33,
   "id": "029535ee",
   "metadata": {},
   "outputs": [
    {
     "data": {
      "text/plain": [
       "'September\\xa02021[24]'"
      ]
     },
     "execution_count": 33,
     "metadata": {},
     "output_type": "execute_result"
    }
   ],
   "source": [
    "file['valuation_date'].max()"
   ]
  },
  {
   "cell_type": "code",
   "execution_count": 36,
   "id": "7f7f1f29",
   "metadata": {},
   "outputs": [],
   "source": [
    "file.to_csv('List of Unicorn Startup Companies.csv', index = False)"
   ]
  },
  {
   "cell_type": "code",
   "execution_count": null,
   "id": "b1eb048a",
   "metadata": {},
   "outputs": [],
   "source": []
  }
 ],
 "metadata": {
  "kernelspec": {
   "display_name": "Python 3 (ipykernel)",
   "language": "python",
   "name": "python3"
  },
  "language_info": {
   "codemirror_mode": {
    "name": "ipython",
    "version": 3
   },
   "file_extension": ".py",
   "mimetype": "text/x-python",
   "name": "python",
   "nbconvert_exporter": "python",
   "pygments_lexer": "ipython3",
   "version": "3.9.13"
  }
 },
 "nbformat": 4,
 "nbformat_minor": 5
}
